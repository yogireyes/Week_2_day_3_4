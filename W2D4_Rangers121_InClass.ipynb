{
 "cells": [
  {
   "cell_type": "markdown",
   "metadata": {},
   "source": [
    "# Homework Exercises"
   ]
  },
  {
   "cell_type": "markdown",
   "metadata": {},
   "source": [
    "### 1) Create a Module in VS Code and Import It into jupyter notebook <br>\n",
    "<p><b>Module should have the following capabilities:</b><br><br>\n",
    "1a) Has a function to calculate the square footage of a house <br>\n",
    "    <b>Reminder of Formula: Length X Width == Area</b><br>\n",
    "        <hr>\n",
    "1b) Has a function to calculate the circumference of a circle 2 Pi r <br><br>\n",
    "<b>Program in Jupyter Notebook should take in user input and use imported functions to calculate a circle's circumference or a houses square footage</b>\n",
    "</p>"
   ]
  },
  {
   "cell_type": "code",
   "execution_count": null,
   "metadata": {
    "scrolled": true
   },
   "outputs": [],
   "source": [
    "import total_square_footage\n",
    "\n",
    "total_square_footage.calc_feet()\n",
    "\n"
   ]
  },
  {
   "cell_type": "markdown",
   "metadata": {},
   "source": [
    "### 2) Build a Shopping Cart Function <br>\n",
    "<p><b>You can use either lists or dictionaries. The program should have the following capabilities:</b><br><br>\n",
    "1) Takes in input <br>\n",
    "2) Stores user input into a dictionary or list <br>\n",
    "3) The User can add or delete items <br>\n",
    "4) The User can see current shopping list <br>\n",
    "5) The program Loops until user 'quits' <br>\n",
    "6) Upon quiting the program, print out all items in the user's list <br>\n",
    "</p>"
   ]
  },
  {
   "cell_type": "code",
   "execution_count": null,
   "metadata": {},
   "outputs": [
    {
     "name": "stdout",
     "output_type": "stream",
     "text": [
      "      \n",
      "Here are your options:\n",
      "1: add item\n",
      "2: delete items\n",
      "3: Show cart\n",
      "0: Quit  \n",
      "      \n"
     ]
    }
   ],
   "source": [
    "print(\"\"\"      \n",
    "Here are your options:\n",
    "1: add item\n",
    "2: delete items\n",
    "3: Show cart\n",
    "0: Quit  \n",
    "      \"\"\")\n",
    "shopping_basket = {}\n",
    "option = input(\"Enter the option you want: \")\n",
    "\n",
    "while option != '0':\n",
    "    try:\n",
    "        option = int(option)\n",
    "        \n",
    "        if option == 1:\n",
    "            item = input(\"Enter an item: \")\n",
    "            \n",
    "            if item in shopping_basket:\n",
    "                print(\"Item already in shopping basket\")\n",
    "            else:\n",
    "                shopping_basket[item] = item\n",
    "            \n",
    "        elif option == 2:\n",
    "            item = input(\"Enter an item to remove: \")\n",
    "            if item in shopping_basket:\n",
    "                del shopping_basket[item]\n",
    "            else:\n",
    "                print(\"Item not in shopping basket\")\n",
    "            \n",
    "        elif option == 3:\n",
    "            for item in shopping_basket:\n",
    "                print(shopping_basket[item])\n",
    "            \n",
    "        else:\n",
    "            print(\"You didn't select a valid option\")\n",
    "    \n",
    "    except ValueError:\n",
    "        print(\"Please pick a number, not a word\")\n",
    "        \n",
    "    option = input(\"Enter an option: \")\n",
    "\n",
    "print(\"Program closed. You have these items in your cart:\")\n",
    "for item in shopping_basket.values():\n",
    "    print(item)"
   ]
  }
 ],
 "metadata": {
  "kernelspec": {
   "display_name": "Python 3 (ipykernel)",
   "language": "python",
   "name": "python3"
  },
  "language_info": {
   "codemirror_mode": {
    "name": "ipython",
    "version": 3
   },
   "file_extension": ".py",
   "mimetype": "text/x-python",
   "name": "python",
   "nbconvert_exporter": "python",
   "pygments_lexer": "ipython3",
   "version": "3.10.11"
  }
 },
 "nbformat": 4,
 "nbformat_minor": 2
}
