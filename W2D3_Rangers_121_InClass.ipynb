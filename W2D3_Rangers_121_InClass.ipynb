{
 "cells": [
  {
   "cell_type": "markdown",
   "metadata": {},
   "source": [
    "# Exercises"
   ]
  },
  {
   "cell_type": "markdown",
   "metadata": {},
   "source": [
    "### 1) Build a Shopping Cart <br>\n",
    "<p><b>You can use either lists or dictionaries. The program should have the following capabilities:</b><br><br>\n",
    "1) Takes in input <br>\n",
    "2) Stores user input into a dictionary or list <br>\n",
    "3) The User can add or delete items <br>\n",
    "4) The User can see current shopping list <br>\n",
    "5) The program Loops until user 'quits' <br>\n",
    "6) Upon quiting the program, print out all items in the user's list <br>\n",
    "</p>"
   ]
  },
  {
   "cell_type": "code",
   "execution_count": 5,
   "metadata": {},
   "outputs": [
    {
     "name": "stdout",
     "output_type": "stream",
     "text": [
      "      \n",
      "Here are your options:\n",
      "1: add item\n",
      "2: delete items\n",
      "3: Show cart\n",
      "0: Quit  \n",
      "      \n",
      "Enter the option you want: 1\n",
      "Enter an item: dog food\n",
      "Enter an option: 1\n",
      "Enter an item: cat food\n",
      "Enter an option: 3\n",
      "dog food\n",
      "cat food\n",
      "Enter an option: 0\n",
      "Program closed, you have these items in your cart:cat food\n"
     ]
    }
   ],
   "source": [
    "from IPython.display import clear_output\n",
    "\n",
    "shopping_basket = {}\n",
    "\n",
    "print(\"\"\"      \n",
    "Here are your options:\n",
    "1: add item\n",
    "2: delete items\n",
    "3: Show cart\n",
    "0: Quit  \n",
    "      \"\"\")\n",
    "option = int(input(\"Enter the option you want: \"))\n",
    "\n",
    "while option != 0:\n",
    "    if option == 1:\n",
    "        item = input(\"Enter an item: \")\n",
    "        \n",
    "        if item in shopping_basket:\n",
    "            print(\"item already in shopping basket\")\n",
    "        else:\n",
    "            shopping_basket[item] = item\n",
    "        \n",
    "    elif option == 2:\n",
    "        item = input(\"Enter an item to remove: \")\n",
    "        if item in shopping_basket:\n",
    "            del(shopping_basket[item])\n",
    "        else:\n",
    "            print(\"item already in shopping basket\")\n",
    "        \n",
    "    elif option == 3:\n",
    "        for item in shopping_basket:\n",
    "            print(shopping_basket[item])\n",
    "            \n",
    "    elif option != 0:\n",
    "        print(\"you didnt select the correct number\")\n",
    "        \n",
    "    option = int(input(\"Enter an option: \"))\n",
    "    \n",
    "else: print(f\"Program closed, you have these items in your cart:{shopping_basket[]}\" )\n",
    "\n",
    "# Ask the user four bits of input: Do you want to : Show/Add/Delete or 3Quit?\n",
    "\n"
   ]
  },
  {
   "cell_type": "markdown",
   "metadata": {},
   "source": [
    "### 2) Set Practice"
   ]
  },
  {
   "cell_type": "markdown",
   "metadata": {},
   "source": [
    "<p><b>Remove all duplicates from the following list</b></p>"
   ]
  },
  {
   "cell_type": "code",
   "execution_count": 2,
   "metadata": {},
   "outputs": [
    {
     "name": "stdout",
     "output_type": "stream",
     "text": [
      "[1, 2, 3, 4, 5, 6, 11, 12, 14, 16]\n"
     ]
    }
   ],
   "source": [
    "nums_list = [1, 1, 1, 2, 2, 3, 5, 6, 4, 12, 11, 12, 12, 14, 16, 16, 16, 1, 1, 1, 2, 2]\n",
    "print(list(set(nums_list)))"
   ]
  },
  {
   "cell_type": "markdown",
   "metadata": {},
   "source": [
    "<p><b>Out put the intersection of the following the following sets.</b></p>"
   ]
  },
  {
   "cell_type": "code",
   "execution_count": 3,
   "metadata": {},
   "outputs": [
    {
     "name": "stdout",
     "output_type": "stream",
     "text": [
      "{26, 27}\n"
     ]
    }
   ],
   "source": [
    "set1 = {20, 24, 26, 27}\n",
    "set2 = {26, 35, 63, 27}\n",
    "\n",
    "set3= set1.intersection(set2)\n",
    "print(set3)"
   ]
  },
  {
   "cell_type": "markdown",
   "metadata": {},
   "source": [
    "<p><b>Output the difference between the following sets</b></p>"
   ]
  },
  {
   "cell_type": "code",
   "execution_count": 4,
   "metadata": {},
   "outputs": [
    {
     "name": "stdout",
     "output_type": "stream",
     "text": [
      "{89, 100}\n"
     ]
    }
   ],
   "source": [
    "set3 = {100, 65, 89, 200}\n",
    "set4 = {65, 103, 54, 200}\n",
    "\n",
    "set5= set3.difference(set4)\n",
    "print(set5)"
   ]
  }
 ],
 "metadata": {
  "kernelspec": {
   "display_name": "Python 3 (ipykernel)",
   "language": "python",
   "name": "python3"
  },
  "language_info": {
   "codemirror_mode": {
    "name": "ipython",
    "version": 3
   },
   "file_extension": ".py",
   "mimetype": "text/x-python",
   "name": "python",
   "nbconvert_exporter": "python",
   "pygments_lexer": "ipython3",
   "version": "3.10.11"
  }
 },
 "nbformat": 4,
 "nbformat_minor": 2
}
